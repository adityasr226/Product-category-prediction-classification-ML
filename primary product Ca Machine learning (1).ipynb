{
 "cells": [
  {
   "cell_type": "markdown",
   "id": "c90ae96d",
   "metadata": {
    "id": "WyKAheTINKnH",
    "papermill": {
     "duration": 0.011421,
     "end_time": "2025-04-10T15:53:44.042939",
     "exception": false,
     "start_time": "2025-04-10T15:53:44.031518",
     "status": "completed"
    },
    "tags": []
   },
   "source": [
    " Pridiction of the primary category - Flipkart dataset"
   ]
  },
  {
   "cell_type": "code",
   "execution_count": null,
   "id": "4f7a488b",
   "metadata": {
    "id": "eqiHa11_-N1S",
    "papermill": {
     "duration": 0.020947,
     "end_time": "2025-04-10T15:53:44.073674",
     "exception": false,
     "start_time": "2025-04-10T15:53:44.052727",
     "status": "completed"
    },
    "tags": []
   },
   "outputs": [],
   "source": []
  },
  {
   "cell_type": "code",
   "execution_count": 1,
   "id": "9bba38f8",
   "metadata": {
    "id": "Z8VK11c52v0R",
    "papermill": {
     "duration": 3.235765,
     "end_time": "2025-04-10T15:53:47.319110",
     "exception": false,
     "start_time": "2025-04-10T15:53:44.083345",
     "status": "completed"
    },
    "tags": []
   },
   "outputs": [],
   "source": [
    "\n",
    "import pandas as pd\n",
    "import numpy as np\n",
    "import matplotlib.pyplot as plt\n",
    "import seaborn as sns\n",
    "from collections import Counter\n",
    "import nltk"
   ]
  },
  {
   "cell_type": "code",
   "execution_count": 2,
   "id": "4b706a08",
   "metadata": {
    "id": "X7AFpZ-PN7rj",
    "papermill": {
     "duration": 0.863431,
     "end_time": "2025-04-10T15:53:48.193350",
     "exception": false,
     "start_time": "2025-04-10T15:53:47.329919",
     "status": "completed"
    },
    "tags": []
   },
   "outputs": [],
   "source": [
    "\n",
    "full_df = pd.read_csv('flipkart_com-ecommerce_sample.csv')"
   ]
  },
  {
   "cell_type": "code",
   "execution_count": 3,
   "id": "c5e2e45f",
   "metadata": {
    "papermill": {
     "duration": 0.033865,
     "end_time": "2025-04-10T15:53:48.237140",
     "exception": false,
     "start_time": "2025-04-10T15:53:48.203275",
     "status": "completed"
    },
    "tags": []
   },
   "outputs": [],
   "source": [
    "\n",
    "\n",
    "# Clean category tree\n",
    "def extract_primary_category(tree_str):\n",
    "    try:\n",
    "        tree_str = tree_str.replace('\"]', '').strip()\n",
    "        return tree_str[2:].split(\" >>\")[0]\n",
    "    except:\n",
    "        return \"Unknown\"\n",
    "\n",
    "full_df['primary_category'] = full_df['product_category_tree'].apply(extract_primary_category)\n",
    "\n",
    "# Function to fetch category by uniq_id(s)\n",
    "def get_category_by_id(ids):\n",
    "    if isinstance(ids, str):\n",
    "        ids = [ids]  # Convert single ID to list\n",
    "    results = full_df[full_df['uniq_id'].isin(ids)][['uniq_id', 'primary_category']]\n",
    "    return results if not results.empty else \"No matching IDs found in dataset.\"\n",
    "\n",
    "\n"
   ]
  },
  {
   "cell_type": "code",
   "execution_count": 4,
   "id": "77bd4ffa",
   "metadata": {
    "papermill": {
     "duration": 0.015738,
     "end_time": "2025-04-10T15:53:48.328203",
     "exception": false,
     "start_time": "2025-04-10T15:53:48.312465",
     "status": "completed"
    },
    "tags": []
   },
   "outputs": [
    {
     "ename": "NameError",
     "evalue": "name 'output_df' is not defined",
     "output_type": "error",
     "traceback": [
      "\u001b[1;31m---------------------------------------------------------------------------\u001b[0m",
      "\u001b[1;31mNameError\u001b[0m                                 Traceback (most recent call last)",
      "Cell \u001b[1;32mIn[4], line 2\u001b[0m\n\u001b[0;32m      1\u001b[0m \u001b[38;5;66;03m#Daya analysis\u001b[39;00m\n\u001b[1;32m----> 2\u001b[0m \u001b[43moutput_df\u001b[49m\u001b[38;5;241m.\u001b[39mrename(columns\u001b[38;5;241m=\u001b[39m{\u001b[38;5;124m'\u001b[39m\u001b[38;5;124mprimary_category\u001b[39m\u001b[38;5;124m'\u001b[39m: \u001b[38;5;124m'\u001b[39m\u001b[38;5;124mproduct_category\u001b[39m\u001b[38;5;124m'\u001b[39m}, inplace\u001b[38;5;241m=\u001b[39m\u001b[38;5;28;01mTrue\u001b[39;00m)\n\u001b[0;32m      5\u001b[0m output_df[\u001b[38;5;124m'\u001b[39m\u001b[38;5;124mproduct_category\u001b[39m\u001b[38;5;124m'\u001b[39m] \u001b[38;5;241m=\u001b[39m output_df[\u001b[38;5;124m'\u001b[39m\u001b[38;5;124mproduct_category\u001b[39m\u001b[38;5;124m'\u001b[39m]\u001b[38;5;241m.\u001b[39mapply(\u001b[38;5;28;01mlambda\u001b[39;00m x: x \u001b[38;5;241m+\u001b[39m \u001b[38;5;124m'\u001b[39m\u001b[38;5;124m \u001b[39m\u001b[38;5;124m'\u001b[39m)\n",
      "\u001b[1;31mNameError\u001b[0m: name 'output_df' is not defined"
     ]
    }
   ],
   "source": [
    "#Daya analysis\n",
    "output_df.rename(columns={'primary_category': 'product_category'}, inplace=True)\n",
    "\n",
    "\n",
    "output_df['product_category'] = output_df['product_category'].apply(lambda x: x + ' ')"
   ]
  },
  {
   "cell_type": "code",
   "execution_count": 7,
   "id": "4e68aa95",
   "metadata": {
    "id": "FDWSvLejOlMx",
    "outputId": "7373b0d3-952f-46ee-abf8-2962c470f9db",
    "papermill": {
     "duration": 0.018451,
     "end_time": "2025-04-10T15:53:48.356518",
     "exception": false,
     "start_time": "2025-04-10T15:53:48.338067",
     "status": "completed"
    },
    "tags": []
   },
   "outputs": [
    {
     "ename": "NameError",
     "evalue": "name 'output_df' is not defined",
     "output_type": "error",
     "traceback": [
      "\u001b[1;31m---------------------------------------------------------------------------\u001b[0m",
      "\u001b[1;31mNameError\u001b[0m                                 Traceback (most recent call last)",
      "Cell \u001b[1;32mIn[7], line 2\u001b[0m\n\u001b[0;32m      1\u001b[0m \u001b[38;5;66;03m# Save the output to a CSV file\u001b[39;00m\n\u001b[1;32m----> 2\u001b[0m \u001b[43moutput_df\u001b[49m\u001b[38;5;241m.\u001b[39mto_csv(\u001b[38;5;124m\"\u001b[39m\u001b[38;5;124mprimary_categories_output2.csv\u001b[39m\u001b[38;5;124m\"\u001b[39m, index\u001b[38;5;241m=\u001b[39m\u001b[38;5;28;01mFalse\u001b[39;00m)\n",
      "\u001b[1;31mNameError\u001b[0m: name 'output_df' is not defined"
     ]
    }
   ],
   "source": [
    "# Save the output to a CSV file\n",
    "output_df.to_csv(\"primary_categories_output2.csv\", index=False)\n"
   ]
  },
  {
   "cell_type": "code",
   "execution_count": 6,
   "id": "34e6e42c",
   "metadata": {
    "id": "67FuuDMYO-Ll",
    "outputId": "9074ae16-ff10-49ce-c787-9424652a5362",
    "papermill": {
     "duration": 0.553361,
     "end_time": "2025-04-10T15:53:48.919552",
     "exception": false,
     "start_time": "2025-04-10T15:53:48.366191",
     "status": "completed"
    },
    "tags": []
   },
   "outputs": [
    {
     "data": {
      "text/html": [
       "<div>\n",
       "<style scoped>\n",
       "    .dataframe tbody tr th:only-of-type {\n",
       "        vertical-align: middle;\n",
       "    }\n",
       "\n",
       "    .dataframe tbody tr th {\n",
       "        vertical-align: top;\n",
       "    }\n",
       "\n",
       "    .dataframe thead th {\n",
       "        text-align: right;\n",
       "    }\n",
       "</style>\n",
       "<table border=\"1\" class=\"dataframe\">\n",
       "  <thead>\n",
       "    <tr style=\"text-align: right;\">\n",
       "      <th></th>\n",
       "      <th>uniq_id</th>\n",
       "      <th>crawl_timestamp</th>\n",
       "      <th>product_url</th>\n",
       "      <th>product_name</th>\n",
       "      <th>product_category_tree</th>\n",
       "      <th>pid</th>\n",
       "      <th>retail_price</th>\n",
       "      <th>discounted_price</th>\n",
       "      <th>image</th>\n",
       "      <th>is_FK_Advantage_product</th>\n",
       "      <th>description</th>\n",
       "      <th>product_rating</th>\n",
       "      <th>overall_rating</th>\n",
       "      <th>brand</th>\n",
       "      <th>product_specifications</th>\n",
       "    </tr>\n",
       "  </thead>\n",
       "  <tbody>\n",
       "    <tr>\n",
       "      <th>0</th>\n",
       "      <td>c2d766ca982eca8304150849735ffef9</td>\n",
       "      <td>2016-03-25 22:59:23 +0000</td>\n",
       "      <td>http://www.flipkart.com/alisha-solid-women-s-c...</td>\n",
       "      <td>Alisha Solid Women's Cycling Shorts</td>\n",
       "      <td>[\"Clothing &gt;&gt; Women's Clothing &gt;&gt; Lingerie, Sl...</td>\n",
       "      <td>SRTEH2FF9KEDEFGF</td>\n",
       "      <td>999.0</td>\n",
       "      <td>379.0</td>\n",
       "      <td>[\"http://img5a.flixcart.com/image/short/u/4/a/...</td>\n",
       "      <td>False</td>\n",
       "      <td>Key Features of Alisha Solid Women's Cycling S...</td>\n",
       "      <td>No rating available</td>\n",
       "      <td>No rating available</td>\n",
       "      <td>Alisha</td>\n",
       "      <td>{\"product_specification\"=&gt;[{\"key\"=&gt;\"Number of ...</td>\n",
       "    </tr>\n",
       "    <tr>\n",
       "      <th>1</th>\n",
       "      <td>7f7036a6d550aaa89d34c77bd39a5e48</td>\n",
       "      <td>2016-03-25 22:59:23 +0000</td>\n",
       "      <td>http://www.flipkart.com/fabhomedecor-fabric-do...</td>\n",
       "      <td>FabHomeDecor Fabric Double Sofa Bed</td>\n",
       "      <td>[\"Furniture &gt;&gt; Living Room Furniture &gt;&gt; Sofa B...</td>\n",
       "      <td>SBEEH3QGU7MFYJFY</td>\n",
       "      <td>32157.0</td>\n",
       "      <td>22646.0</td>\n",
       "      <td>[\"http://img6a.flixcart.com/image/sofa-bed/j/f...</td>\n",
       "      <td>False</td>\n",
       "      <td>FabHomeDecor Fabric Double Sofa Bed (Finish Co...</td>\n",
       "      <td>No rating available</td>\n",
       "      <td>No rating available</td>\n",
       "      <td>FabHomeDecor</td>\n",
       "      <td>{\"product_specification\"=&gt;[{\"key\"=&gt;\"Installati...</td>\n",
       "    </tr>\n",
       "    <tr>\n",
       "      <th>2</th>\n",
       "      <td>f449ec65dcbc041b6ae5e6a32717d01b</td>\n",
       "      <td>2016-03-25 22:59:23 +0000</td>\n",
       "      <td>http://www.flipkart.com/aw-bellies/p/itmeh4grg...</td>\n",
       "      <td>AW Bellies</td>\n",
       "      <td>[\"Footwear &gt;&gt; Women's Footwear &gt;&gt; Ballerinas &gt;...</td>\n",
       "      <td>SHOEH4GRSUBJGZXE</td>\n",
       "      <td>999.0</td>\n",
       "      <td>499.0</td>\n",
       "      <td>[\"http://img5a.flixcart.com/image/shoe/7/z/z/r...</td>\n",
       "      <td>False</td>\n",
       "      <td>Key Features of AW Bellies Sandals Wedges Heel...</td>\n",
       "      <td>No rating available</td>\n",
       "      <td>No rating available</td>\n",
       "      <td>AW</td>\n",
       "      <td>{\"product_specification\"=&gt;[{\"key\"=&gt;\"Ideal For\"...</td>\n",
       "    </tr>\n",
       "    <tr>\n",
       "      <th>3</th>\n",
       "      <td>0973b37acd0c664e3de26e97e5571454</td>\n",
       "      <td>2016-03-25 22:59:23 +0000</td>\n",
       "      <td>http://www.flipkart.com/alisha-solid-women-s-c...</td>\n",
       "      <td>Alisha Solid Women's Cycling Shorts</td>\n",
       "      <td>[\"Clothing &gt;&gt; Women's Clothing &gt;&gt; Lingerie, Sl...</td>\n",
       "      <td>SRTEH2F6HUZMQ6SJ</td>\n",
       "      <td>699.0</td>\n",
       "      <td>267.0</td>\n",
       "      <td>[\"http://img5a.flixcart.com/image/short/6/2/h/...</td>\n",
       "      <td>False</td>\n",
       "      <td>Key Features of Alisha Solid Women's Cycling S...</td>\n",
       "      <td>No rating available</td>\n",
       "      <td>No rating available</td>\n",
       "      <td>Alisha</td>\n",
       "      <td>{\"product_specification\"=&gt;[{\"key\"=&gt;\"Number of ...</td>\n",
       "    </tr>\n",
       "    <tr>\n",
       "      <th>4</th>\n",
       "      <td>bc940ea42ee6bef5ac7cea3fb5cfbee7</td>\n",
       "      <td>2016-03-25 22:59:23 +0000</td>\n",
       "      <td>http://www.flipkart.com/sicons-all-purpose-arn...</td>\n",
       "      <td>Sicons All Purpose Arnica Dog Shampoo</td>\n",
       "      <td>[\"Pet Supplies &gt;&gt; Grooming &gt;&gt; Skin &amp; Coat Care...</td>\n",
       "      <td>PSOEH3ZYDMSYARJ5</td>\n",
       "      <td>220.0</td>\n",
       "      <td>210.0</td>\n",
       "      <td>[\"http://img5a.flixcart.com/image/pet-shampoo/...</td>\n",
       "      <td>False</td>\n",
       "      <td>Specifications of Sicons All Purpose Arnica Do...</td>\n",
       "      <td>No rating available</td>\n",
       "      <td>No rating available</td>\n",
       "      <td>Sicons</td>\n",
       "      <td>{\"product_specification\"=&gt;[{\"key\"=&gt;\"Pet Type\",...</td>\n",
       "    </tr>\n",
       "    <tr>\n",
       "      <th>5</th>\n",
       "      <td>c2a17313954882c1dba461863e98adf2</td>\n",
       "      <td>2016-03-25 22:59:23 +0000</td>\n",
       "      <td>http://www.flipkart.com/eternal-gandhi-super-s...</td>\n",
       "      <td>Eternal Gandhi Super Series Crystal Paper Weig...</td>\n",
       "      <td>[\"Eternal Gandhi Super Series Crystal Paper We...</td>\n",
       "      <td>PWTEB7H2E4KCYUE3</td>\n",
       "      <td>430.0</td>\n",
       "      <td>430.0</td>\n",
       "      <td>[\"http://img5a.flixcart.com/image/paper-weight...</td>\n",
       "      <td>False</td>\n",
       "      <td>Key Features of Eternal Gandhi Super Series Cr...</td>\n",
       "      <td>No rating available</td>\n",
       "      <td>No rating available</td>\n",
       "      <td>Eternal Gandhi</td>\n",
       "      <td>{\"product_specification\"=&gt;[{\"key\"=&gt;\"Model Name...</td>\n",
       "    </tr>\n",
       "    <tr>\n",
       "      <th>6</th>\n",
       "      <td>ce5a6818f7707e2cb61fdcdbba61f5ad</td>\n",
       "      <td>2016-03-25 22:59:23 +0000</td>\n",
       "      <td>http://www.flipkart.com/alisha-solid-women-s-c...</td>\n",
       "      <td>Alisha Solid Women's Cycling Shorts</td>\n",
       "      <td>[\"Clothing &gt;&gt; Women's Clothing &gt;&gt; Lingerie, Sl...</td>\n",
       "      <td>SRTEH2FVVKRBAXHB</td>\n",
       "      <td>1199.0</td>\n",
       "      <td>479.0</td>\n",
       "      <td>[\"http://img6a.flixcart.com/image/short/p/j/z/...</td>\n",
       "      <td>False</td>\n",
       "      <td>Key Features of Alisha Solid Women's Cycling S...</td>\n",
       "      <td>No rating available</td>\n",
       "      <td>No rating available</td>\n",
       "      <td>Alisha</td>\n",
       "      <td>{\"product_specification\"=&gt;[{\"key\"=&gt;\"Number of ...</td>\n",
       "    </tr>\n",
       "    <tr>\n",
       "      <th>7</th>\n",
       "      <td>8542703ca9e6ebdf6d742638dfb1f2ca</td>\n",
       "      <td>2016-03-25 22:59:23 +0000</td>\n",
       "      <td>http://www.flipkart.com/fabhomedecor-fabric-do...</td>\n",
       "      <td>FabHomeDecor Fabric Double Sofa Bed</td>\n",
       "      <td>[\"Furniture &gt;&gt; Living Room Furniture &gt;&gt; Sofa B...</td>\n",
       "      <td>SBEEH3QGYGHFUEXN</td>\n",
       "      <td>32157.0</td>\n",
       "      <td>22646.0</td>\n",
       "      <td>[\"http://img6a.flixcart.com/image/sofa-bed/e/x...</td>\n",
       "      <td>False</td>\n",
       "      <td>FabHomeDecor Fabric Double Sofa Bed (Finish Co...</td>\n",
       "      <td>No rating available</td>\n",
       "      <td>No rating available</td>\n",
       "      <td>FabHomeDecor</td>\n",
       "      <td>{\"product_specification\"=&gt;[{\"key\"=&gt;\"Installati...</td>\n",
       "    </tr>\n",
       "    <tr>\n",
       "      <th>8</th>\n",
       "      <td>29c8d290caa451f97b1c32df64477a2c</td>\n",
       "      <td>2016-03-25 22:59:23 +0000</td>\n",
       "      <td>http://www.flipkart.com/dilli-bazaaar-bellies-...</td>\n",
       "      <td>dilli bazaaar Bellies, Corporate Casuals, Casuals</td>\n",
       "      <td>[\"Footwear &gt;&gt; Women's Footwear &gt;&gt; Ballerinas &gt;...</td>\n",
       "      <td>SHOEH3DZBFR88SCK</td>\n",
       "      <td>699.0</td>\n",
       "      <td>349.0</td>\n",
       "      <td>[\"http://img6a.flixcart.com/image/shoe/b/p/n/p...</td>\n",
       "      <td>False</td>\n",
       "      <td>Key Features of dilli bazaaar Bellies, Corpora...</td>\n",
       "      <td>No rating available</td>\n",
       "      <td>No rating available</td>\n",
       "      <td>dilli bazaaar</td>\n",
       "      <td>{\"product_specification\"=&gt;[{\"key\"=&gt;\"Occasion\",...</td>\n",
       "    </tr>\n",
       "    <tr>\n",
       "      <th>9</th>\n",
       "      <td>4044c0ac52c1ee4b28777417651faf42</td>\n",
       "      <td>2016-03-25 22:59:23 +0000</td>\n",
       "      <td>http://www.flipkart.com/alisha-solid-women-s-c...</td>\n",
       "      <td>Alisha Solid Women's Cycling Shorts</td>\n",
       "      <td>[\"Clothing &gt;&gt; Women's Clothing &gt;&gt; Lingerie, Sl...</td>\n",
       "      <td>SRTEH2FVUHAAVH9X</td>\n",
       "      <td>1199.0</td>\n",
       "      <td>479.0</td>\n",
       "      <td>[\"http://img5a.flixcart.com/image/short/5/z/c/...</td>\n",
       "      <td>False</td>\n",
       "      <td>Key Features of Alisha Solid Women's Cycling S...</td>\n",
       "      <td>No rating available</td>\n",
       "      <td>No rating available</td>\n",
       "      <td>Alisha</td>\n",
       "      <td>{\"product_specification\"=&gt;[{\"key\"=&gt;\"Number of ...</td>\n",
       "    </tr>\n",
       "  </tbody>\n",
       "</table>\n",
       "</div>"
      ],
      "text/plain": [
       "                            uniq_id            crawl_timestamp  \\\n",
       "0  c2d766ca982eca8304150849735ffef9  2016-03-25 22:59:23 +0000   \n",
       "1  7f7036a6d550aaa89d34c77bd39a5e48  2016-03-25 22:59:23 +0000   \n",
       "2  f449ec65dcbc041b6ae5e6a32717d01b  2016-03-25 22:59:23 +0000   \n",
       "3  0973b37acd0c664e3de26e97e5571454  2016-03-25 22:59:23 +0000   \n",
       "4  bc940ea42ee6bef5ac7cea3fb5cfbee7  2016-03-25 22:59:23 +0000   \n",
       "5  c2a17313954882c1dba461863e98adf2  2016-03-25 22:59:23 +0000   \n",
       "6  ce5a6818f7707e2cb61fdcdbba61f5ad  2016-03-25 22:59:23 +0000   \n",
       "7  8542703ca9e6ebdf6d742638dfb1f2ca  2016-03-25 22:59:23 +0000   \n",
       "8  29c8d290caa451f97b1c32df64477a2c  2016-03-25 22:59:23 +0000   \n",
       "9  4044c0ac52c1ee4b28777417651faf42  2016-03-25 22:59:23 +0000   \n",
       "\n",
       "                                         product_url  \\\n",
       "0  http://www.flipkart.com/alisha-solid-women-s-c...   \n",
       "1  http://www.flipkart.com/fabhomedecor-fabric-do...   \n",
       "2  http://www.flipkart.com/aw-bellies/p/itmeh4grg...   \n",
       "3  http://www.flipkart.com/alisha-solid-women-s-c...   \n",
       "4  http://www.flipkart.com/sicons-all-purpose-arn...   \n",
       "5  http://www.flipkart.com/eternal-gandhi-super-s...   \n",
       "6  http://www.flipkart.com/alisha-solid-women-s-c...   \n",
       "7  http://www.flipkart.com/fabhomedecor-fabric-do...   \n",
       "8  http://www.flipkart.com/dilli-bazaaar-bellies-...   \n",
       "9  http://www.flipkart.com/alisha-solid-women-s-c...   \n",
       "\n",
       "                                        product_name  \\\n",
       "0                Alisha Solid Women's Cycling Shorts   \n",
       "1                FabHomeDecor Fabric Double Sofa Bed   \n",
       "2                                         AW Bellies   \n",
       "3                Alisha Solid Women's Cycling Shorts   \n",
       "4              Sicons All Purpose Arnica Dog Shampoo   \n",
       "5  Eternal Gandhi Super Series Crystal Paper Weig...   \n",
       "6                Alisha Solid Women's Cycling Shorts   \n",
       "7                FabHomeDecor Fabric Double Sofa Bed   \n",
       "8  dilli bazaaar Bellies, Corporate Casuals, Casuals   \n",
       "9                Alisha Solid Women's Cycling Shorts   \n",
       "\n",
       "                               product_category_tree               pid  \\\n",
       "0  [\"Clothing >> Women's Clothing >> Lingerie, Sl...  SRTEH2FF9KEDEFGF   \n",
       "1  [\"Furniture >> Living Room Furniture >> Sofa B...  SBEEH3QGU7MFYJFY   \n",
       "2  [\"Footwear >> Women's Footwear >> Ballerinas >...  SHOEH4GRSUBJGZXE   \n",
       "3  [\"Clothing >> Women's Clothing >> Lingerie, Sl...  SRTEH2F6HUZMQ6SJ   \n",
       "4  [\"Pet Supplies >> Grooming >> Skin & Coat Care...  PSOEH3ZYDMSYARJ5   \n",
       "5  [\"Eternal Gandhi Super Series Crystal Paper We...  PWTEB7H2E4KCYUE3   \n",
       "6  [\"Clothing >> Women's Clothing >> Lingerie, Sl...  SRTEH2FVVKRBAXHB   \n",
       "7  [\"Furniture >> Living Room Furniture >> Sofa B...  SBEEH3QGYGHFUEXN   \n",
       "8  [\"Footwear >> Women's Footwear >> Ballerinas >...  SHOEH3DZBFR88SCK   \n",
       "9  [\"Clothing >> Women's Clothing >> Lingerie, Sl...  SRTEH2FVUHAAVH9X   \n",
       "\n",
       "   retail_price  discounted_price  \\\n",
       "0         999.0             379.0   \n",
       "1       32157.0           22646.0   \n",
       "2         999.0             499.0   \n",
       "3         699.0             267.0   \n",
       "4         220.0             210.0   \n",
       "5         430.0             430.0   \n",
       "6        1199.0             479.0   \n",
       "7       32157.0           22646.0   \n",
       "8         699.0             349.0   \n",
       "9        1199.0             479.0   \n",
       "\n",
       "                                               image is_FK_Advantage_product  \\\n",
       "0  [\"http://img5a.flixcart.com/image/short/u/4/a/...                   False   \n",
       "1  [\"http://img6a.flixcart.com/image/sofa-bed/j/f...                   False   \n",
       "2  [\"http://img5a.flixcart.com/image/shoe/7/z/z/r...                   False   \n",
       "3  [\"http://img5a.flixcart.com/image/short/6/2/h/...                   False   \n",
       "4  [\"http://img5a.flixcart.com/image/pet-shampoo/...                   False   \n",
       "5  [\"http://img5a.flixcart.com/image/paper-weight...                   False   \n",
       "6  [\"http://img6a.flixcart.com/image/short/p/j/z/...                   False   \n",
       "7  [\"http://img6a.flixcart.com/image/sofa-bed/e/x...                   False   \n",
       "8  [\"http://img6a.flixcart.com/image/shoe/b/p/n/p...                   False   \n",
       "9  [\"http://img5a.flixcart.com/image/short/5/z/c/...                   False   \n",
       "\n",
       "                                         description       product_rating  \\\n",
       "0  Key Features of Alisha Solid Women's Cycling S...  No rating available   \n",
       "1  FabHomeDecor Fabric Double Sofa Bed (Finish Co...  No rating available   \n",
       "2  Key Features of AW Bellies Sandals Wedges Heel...  No rating available   \n",
       "3  Key Features of Alisha Solid Women's Cycling S...  No rating available   \n",
       "4  Specifications of Sicons All Purpose Arnica Do...  No rating available   \n",
       "5  Key Features of Eternal Gandhi Super Series Cr...  No rating available   \n",
       "6  Key Features of Alisha Solid Women's Cycling S...  No rating available   \n",
       "7  FabHomeDecor Fabric Double Sofa Bed (Finish Co...  No rating available   \n",
       "8  Key Features of dilli bazaaar Bellies, Corpora...  No rating available   \n",
       "9  Key Features of Alisha Solid Women's Cycling S...  No rating available   \n",
       "\n",
       "        overall_rating           brand  \\\n",
       "0  No rating available          Alisha   \n",
       "1  No rating available    FabHomeDecor   \n",
       "2  No rating available              AW   \n",
       "3  No rating available          Alisha   \n",
       "4  No rating available          Sicons   \n",
       "5  No rating available  Eternal Gandhi   \n",
       "6  No rating available          Alisha   \n",
       "7  No rating available    FabHomeDecor   \n",
       "8  No rating available   dilli bazaaar   \n",
       "9  No rating available          Alisha   \n",
       "\n",
       "                              product_specifications  \n",
       "0  {\"product_specification\"=>[{\"key\"=>\"Number of ...  \n",
       "1  {\"product_specification\"=>[{\"key\"=>\"Installati...  \n",
       "2  {\"product_specification\"=>[{\"key\"=>\"Ideal For\"...  \n",
       "3  {\"product_specification\"=>[{\"key\"=>\"Number of ...  \n",
       "4  {\"product_specification\"=>[{\"key\"=>\"Pet Type\",...  \n",
       "5  {\"product_specification\"=>[{\"key\"=>\"Model Name...  \n",
       "6  {\"product_specification\"=>[{\"key\"=>\"Number of ...  \n",
       "7  {\"product_specification\"=>[{\"key\"=>\"Installati...  \n",
       "8  {\"product_specification\"=>[{\"key\"=>\"Occasion\",...  \n",
       "9  {\"product_specification\"=>[{\"key\"=>\"Number of ...  "
      ]
     },
     "execution_count": 6,
     "metadata": {},
     "output_type": "execute_result"
    }
   ],
   "source": [
    "\n",
    "Flipkart_orignal_data = pd.read_csv('flipkart_com-ecommerce_sample.csv')\n",
    "Flipkart_orignal_data.head(n=10)"
   ]
  },
  {
   "cell_type": "code",
   "execution_count": null,
   "id": "e8392ee0",
   "metadata": {
    "id": "GjjpmOnKPG9A",
    "outputId": "6e1af5d2-dbe6-42ea-9bb0-bcd22c5cfe72",
    "papermill": {
     "duration": 0.016156,
     "end_time": "2025-04-10T15:53:48.946390",
     "exception": false,
     "start_time": "2025-04-10T15:53:48.930234",
     "status": "completed"
    },
    "tags": []
   },
   "outputs": [],
   "source": [
    "#to check the number of rows and cols\n",
    "Flipkart_orignal_data.shape"
   ]
  },
  {
   "cell_type": "code",
   "execution_count": null,
   "id": "86cdb5c6",
   "metadata": {
    "id": "iWmJmOnTPQrt",
    "outputId": "23b0d6fe-2589-4a33-f291-40d2083bb6a0",
    "papermill": {
     "duration": 0.028274,
     "end_time": "2025-04-10T15:53:48.984752",
     "exception": false,
     "start_time": "2025-04-10T15:53:48.956478",
     "status": "completed"
    },
    "tags": []
   },
   "outputs": [],
   "source": [
    "Flipkart_orignal_data.isnull().sum()"
   ]
  },
  {
   "cell_type": "code",
   "execution_count": null,
   "id": "2707a16b",
   "metadata": {
    "id": "DcX2iSAIPliT",
    "outputId": "a6e46432-8abc-40f1-bbea-e7d45ef77111",
    "papermill": {
     "duration": 0.01654,
     "end_time": "2025-04-10T15:53:49.012514",
     "exception": false,
     "start_time": "2025-04-10T15:53:48.995974",
     "status": "completed"
    },
    "tags": []
   },
   "outputs": [],
   "source": [
    "Flipkart_orignal_data.columns"
   ]
  },
  {
   "cell_type": "markdown",
   "id": "19da0b0a",
   "metadata": {
    "id": "9iu1mVIgRZnl",
    "papermill": {
     "duration": 0.010412,
     "end_time": "2025-04-10T15:53:49.033484",
     "exception": false,
     "start_time": "2025-04-10T15:53:49.023072",
     "status": "completed"
    },
    "tags": []
   },
   "source": [
    "# Data Cleaning\n",
    "\n",
    "\n",
    "\n"
   ]
  },
  {
   "cell_type": "code",
   "execution_count": null,
   "id": "3cfe9731",
   "metadata": {
    "id": "FpGrQleeRQPS",
    "papermill": {
     "duration": 0.019878,
     "end_time": "2025-04-10T15:53:49.104964",
     "exception": false,
     "start_time": "2025-04-10T15:53:49.085086",
     "status": "completed"
    },
    "tags": []
   },
   "outputs": [],
   "source": [
    "# Making a copy of orginal data\n",
    "flipkart_data = Flipkart_orignal_data.copy()"
   ]
  },
  {
   "cell_type": "code",
   "execution_count": null,
   "id": "0c5f5803",
   "metadata": {
    "id": "q8_HsMaqT6R2",
    "outputId": "d96461ff-5b86-46d2-d6cc-a520c35e3fa2",
    "papermill": {
     "duration": 0.016662,
     "end_time": "2025-04-10T15:53:49.132617",
     "exception": false,
     "start_time": "2025-04-10T15:53:49.115955",
     "status": "completed"
    },
    "tags": []
   },
   "outputs": [],
   "source": [
    "#Lets Drop the Un-required Coloumns.\n",
    "\n",
    "flipkart_data.columns"
   ]
  },
  {
   "cell_type": "code",
   "execution_count": null,
   "id": "fbc17f87",
   "metadata": {
    "id": "a8GcmWpp2v0b",
    "outputId": "3cbbd745-7f20-4aa9-a946-230e2977a0fe",
    "papermill": {
     "duration": 0.023638,
     "end_time": "2025-04-10T15:53:49.167203",
     "exception": false,
     "start_time": "2025-04-10T15:53:49.143565",
     "status": "completed"
    },
    "tags": []
   },
   "outputs": [],
   "source": [
    "flipkart_data.drop(flipkart_data.columns[[0,1,2,5,6,7,8,9,11,12,14]], axis=1, inplace=True)\n",
    "\n",
    "#Lets View the data Now\n",
    "flipkart_data"
   ]
  },
  {
   "cell_type": "markdown",
   "id": "15242fb3",
   "metadata": {
    "id": "ywUMhyRBY3xs",
    "papermill": {
     "duration": 0.01028,
     "end_time": "2025-04-10T15:53:49.188243",
     "exception": false,
     "start_time": "2025-04-10T15:53:49.177963",
     "status": "completed"
    },
    "tags": []
   },
   "source": [
    "Cleaning the ***product_category_tree***\tcolumn."
   ]
  },
  {
   "cell_type": "code",
   "execution_count": null,
   "id": "ea6343be",
   "metadata": {
    "id": "XPaYqNe4UVbv",
    "papermill": {
     "duration": 0.015519,
     "end_time": "2025-04-10T15:53:49.214262",
     "exception": false,
     "start_time": "2025-04-10T15:53:49.198743",
     "status": "completed"
    },
    "tags": []
   },
   "outputs": [],
   "source": [
    "def clean_prod_category(flipkart_data):\n",
    "    primary_category = []\n",
    "    for ele in flipkart_data['product_category_tree']:\n",
    "        try:\n",
    "            ele = str(ele).replace('\"]', \"\").strip()\n",
    "            category = ele[2:].split(\" >>\")[0]\n",
    "            primary_category.append(category)\n",
    "        except:\n",
    "            primary_category.append(\"Unknown\")\n",
    "    return primary_category\n"
   ]
  },
  {
   "cell_type": "code",
   "execution_count": null,
   "id": "2384fa90",
   "metadata": {
    "id": "43Y8l2vBaoqB",
    "outputId": "ef2ebeda-ff9d-4358-d02f-05deea39e2ef",
    "papermill": {
     "duration": 0.028778,
     "end_time": "2025-04-10T15:53:49.254052",
     "exception": false,
     "start_time": "2025-04-10T15:53:49.225274",
     "status": "completed"
    },
    "tags": []
   },
   "outputs": [],
   "source": [
    "#Calling the function\n",
    "primary_category=clean_prod_category(flipkart_data)\n",
    "\n"
   ]
  },
  {
   "cell_type": "code",
   "execution_count": null,
   "id": "2444281d",
   "metadata": {
    "id": "-oaJFJ-manyL",
    "outputId": "1b71b47c-98f3-4fb2-cfd9-7a01e6e1e1c6",
    "papermill": {
     "duration": 0.020428,
     "end_time": "2025-04-10T15:53:49.285224",
     "exception": false,
     "start_time": "2025-04-10T15:53:49.264796",
     "status": "completed"
    },
    "tags": []
   },
   "outputs": [],
   "source": [
    "primary_category=pd.DataFrame(primary_category,columns=[\"Category\"])\n",
    "print(\"Number of Unique Categories\",len(primary_category[\"Category\"].value_counts()))"
   ]
  },
  {
   "cell_type": "code",
   "execution_count": null,
   "id": "4ff2441e",
   "metadata": {
    "id": "HignsAG_by71",
    "outputId": "bb83b150-b6f2-4ad8-a07e-0c36e9711368",
    "papermill": {
     "duration": 0.017483,
     "end_time": "2025-04-10T15:53:49.313232",
     "exception": false,
     "start_time": "2025-04-10T15:53:49.295749",
     "status": "completed"
    },
    "tags": []
   },
   "outputs": [],
   "source": [
    "primary_category_top=Counter(primary_category[\"Category\"]).most_common(266)\n"
   ]
  },
  {
   "cell_type": "markdown",
   "id": "6e384e69",
   "metadata": {
    "id": "gjCdfR4R2IET",
    "papermill": {
     "duration": 0.010339,
     "end_time": "2025-04-10T15:53:49.334269",
     "exception": false,
     "start_time": "2025-04-10T15:53:49.323930",
     "status": "completed"
    },
    "tags": []
   },
   "source": [
    "Visualize the Data "
   ]
  },
  {
   "cell_type": "code",
   "execution_count": null,
   "id": "4dd776a5",
   "metadata": {
    "id": "vXwhTyPV2v0d",
    "outputId": "fb22e674-482c-4c2f-e26a-ef5ca3017c00",
    "papermill": {
     "duration": 2.553278,
     "end_time": "2025-04-10T15:53:51.897813",
     "exception": false,
     "start_time": "2025-04-10T15:53:49.344535",
     "status": "completed"
    },
    "tags": []
   },
   "outputs": [],
   "source": [
    "# When we will try to plot the categories and its count , we will get a messy graph as there are 265 categories.\n",
    "\n",
    "plt.figure(figsize=(20,20))\n",
    "plt.title(\"Count Vs Category\")\n",
    "sns.countplot(x=\"Category\",data=primary_category,palette=\"rainbow\",\n",
    "              order=primary_category[\"Category\"].value_counts().index)\n",
    "plt.xticks(rotation=90,fontsize = 10, ha='left')\n",
    "plt.show()"
   ]
  },
  {
   "cell_type": "code",
   "execution_count": null,
   "id": "b78a297c",
   "metadata": {
    "id": "RWk9S6PY2v0e",
    "papermill": {
     "duration": 0.034386,
     "end_time": "2025-04-10T15:53:51.959544",
     "exception": false,
     "start_time": "2025-04-10T15:53:51.925158",
     "status": "completed"
    },
    "tags": []
   },
   "outputs": [],
   "source": [
    "# A function which returns a output containg the top categories with more then 'n' counts.\n",
    "# Here, n stands for the count of categories , and bottom, if you want the categories with most/least count.\n",
    "# and 'List', do we need a list or dataframe.\n",
    "def count_of_category(n,bottom=False,List=False):\n",
    "    output=[]\n",
    "    primary_category_top=Counter(primary_category[\"Category\"]).most_common(266)\n",
    "    if bottom:\n",
    "      for i in primary_category_top:\n",
    "        if i[1]<=n:\n",
    "            output.append(i)\n",
    "    else:\n",
    "      for i in primary_category_top:\n",
    "        if i[1]>=n:\n",
    "          output.append(i)\n",
    "    if not List:\n",
    "      output=pd.DataFrame(output,columns=[\"Category\",\"Count\"])\n",
    "    return output"
   ]
  },
  {
   "cell_type": "code",
   "execution_count": null,
   "id": "2f2642b0",
   "metadata": {
    "id": "6az50tE38rXS",
    "papermill": {
     "duration": 0.035287,
     "end_time": "2025-04-10T15:53:52.021900",
     "exception": false,
     "start_time": "2025-04-10T15:53:51.986613",
     "status": "completed"
    },
    "tags": []
   },
   "outputs": [],
   "source": [
    "#Now lets try to find the categories with more then 500 counts \n",
    "top_500_category = count_of_category(500) "
   ]
  },
  {
   "cell_type": "code",
   "execution_count": null,
   "id": "456b7579",
   "metadata": {
    "papermill": {
     "duration": 0.03573,
     "end_time": "2025-04-10T15:53:52.084893",
     "exception": false,
     "start_time": "2025-04-10T15:53:52.049163",
     "status": "completed"
    },
    "tags": []
   },
   "outputs": [],
   "source": [
    "top_500_category"
   ]
  },
  {
   "cell_type": "code",
   "execution_count": null,
   "id": "86c08818",
   "metadata": {
    "id": "TTVfVkvb8rew",
    "outputId": "63c3bc07-6455-4900-f307-e34043b106eb",
    "papermill": {
     "duration": 0.271594,
     "end_time": "2025-04-10T15:53:52.385034",
     "exception": false,
     "start_time": "2025-04-10T15:53:52.113440",
     "status": "completed"
    },
    "tags": []
   },
   "outputs": [],
   "source": [
    "sns.catplot(x=\"Category\", y=\"Count\", data=top_500_category, kind='bar', aspect=2, palette='rainbow')\n",
    "plt.xticks(rotation=90)\n",
    "plt.show()\n"
   ]
  },
  {
   "cell_type": "code",
   "execution_count": null,
   "id": "8a9d35ba",
   "metadata": {
    "id": "n_xpqub4Bprw",
    "papermill": {
     "duration": 0.038013,
     "end_time": "2025-04-10T15:53:52.453048",
     "exception": false,
     "start_time": "2025-04-10T15:53:52.415035",
     "status": "completed"
    },
    "tags": []
   },
   "outputs": [],
   "source": [
    "#Let's see if its even feasible to visualize the categories with least counts\n",
    "bottom_categories=count_of_category(500,bottom=True,List=True)"
   ]
  },
  {
   "cell_type": "code",
   "execution_count": null,
   "id": "ddbf585f",
   "metadata": {
    "id": "0NS2dEAlJTDN",
    "outputId": "a0bff865-74ba-479b-ef68-211b7f4e6004",
    "papermill": {
     "duration": 0.03345,
     "end_time": "2025-04-10T15:53:52.515326",
     "exception": false,
     "start_time": "2025-04-10T15:53:52.481876",
     "status": "completed"
    },
    "tags": []
   },
   "outputs": [],
   "source": [
    "print(\"The number of categories with count less then 500 :\",len(bottom_categories))"
   ]
  },
  {
   "cell_type": "markdown",
   "id": "999dd4bd",
   "metadata": {
    "id": "bGGTcv0ZHCDQ",
    "papermill": {
     "duration": 0.028791,
     "end_time": "2025-04-10T15:53:52.572318",
     "exception": false,
     "start_time": "2025-04-10T15:53:52.543527",
     "status": "completed"
    },
    "tags": []
   },
   "source": [
    "As, we can see we still have 254 rows i.e Unique Categories, it would not be possible to visualize , let's switch to old fashion way, **manually**."
   ]
  },
  {
   "cell_type": "markdown",
   "id": "90dba0e3",
   "metadata": {
    "id": "i1ydf-KVWHCW",
    "papermill": {
     "duration": 0.02822,
     "end_time": "2025-04-10T15:53:52.628204",
     "exception": false,
     "start_time": "2025-04-10T15:53:52.599984",
     "status": "completed"
    },
    "tags": []
   },
   "source": [
    "## Cleaning product_category_tree\n",
    "Further Cleaning and setting up the data for Predictions."
   ]
  },
  {
   "cell_type": "code",
   "execution_count": null,
   "id": "eb77d947",
   "metadata": {
    "id": "D8Hkn7ulN93V",
    "outputId": "51a6be67-3004-44ea-c1fe-97323b7db916",
    "papermill": {
     "duration": 0.039727,
     "end_time": "2025-04-10T15:53:52.695860",
     "exception": false,
     "start_time": "2025-04-10T15:53:52.656133",
     "status": "completed"
    },
    "tags": []
   },
   "outputs": [],
   "source": [
    "#making a new column \"primary_category\"  \n",
    "flipkart_data[\"primary_category\"]=primary_category\n",
    "flipkart_data.head()"
   ]
  },
  {
   "cell_type": "code",
   "execution_count": null,
   "id": "a6b7b73e",
   "metadata": {
    "id": "cuhRgqZIXauM",
    "papermill": {
     "duration": 0.041054,
     "end_time": "2025-04-10T15:53:52.766295",
     "exception": false,
     "start_time": "2025-04-10T15:53:52.725241",
     "status": "completed"
    },
    "tags": []
   },
   "outputs": [],
   "source": [
    "#Now there is no need for product_category_tree , so we drop it.\n",
    "flipkart_data.drop(flipkart_data.columns[[1]], axis=1, inplace=True)\n",
    "#removing the 2 null values in 'description' column\n",
    "flipkart_data=flipkart_data.dropna(subset=['description'])"
   ]
  },
  {
   "cell_type": "code",
   "execution_count": null,
   "id": "cb392266",
   "metadata": {
    "id": "3JvJk40oYZFi",
    "outputId": "cc733732-fa33-4091-c7ec-72cb1ecf97d9",
    "papermill": {
     "duration": 0.039812,
     "end_time": "2025-04-10T15:53:52.835813",
     "exception": false,
     "start_time": "2025-04-10T15:53:52.796001",
     "status": "completed"
    },
    "tags": []
   },
   "outputs": [],
   "source": [
    "#checking the remaning null values in description\n",
    "flipkart_data[flipkart_data['description'].isnull()]"
   ]
  },
  {
   "cell_type": "code",
   "execution_count": null,
   "id": "b0f3a969",
   "metadata": {
    "id": "cZHwFdSibAOw",
    "outputId": "18168644-7968-4c64-c292-4cbc48c5d5c4",
    "papermill": {
     "duration": 0.043407,
     "end_time": "2025-04-10T15:53:52.910014",
     "exception": false,
     "start_time": "2025-04-10T15:53:52.866607",
     "status": "completed"
    },
    "tags": []
   },
   "outputs": [],
   "source": [
    "#checking the remaning null values in the data.\n",
    "flipkart_data[flipkart_data.isnull().any(axis=1)]"
   ]
  },
  {
   "cell_type": "code",
   "execution_count": null,
   "id": "21014be9",
   "metadata": {
    "id": "AWNI70dudCTZ",
    "outputId": "bd2c6f8e-31a2-4431-d7a6-61d881dfdcf3",
    "papermill": {
     "duration": 0.035082,
     "end_time": "2025-04-10T15:53:52.974058",
     "exception": false,
     "start_time": "2025-04-10T15:53:52.938976",
     "status": "completed"
    },
    "tags": []
   },
   "outputs": [],
   "source": [
    "top_500_category = top_500_category['Category'][0:10]\n",
    "top_10_categories = list(top_500_category)\n",
    "top_10_categories"
   ]
  },
  {
   "cell_type": "code",
   "execution_count": null,
   "id": "3b73441c",
   "metadata": {
    "id": "wgyinqS3gzak",
    "outputId": "668602d8-a2b5-4c4f-9913-669511119b71",
    "papermill": {
     "duration": 0.038004,
     "end_time": "2025-04-10T15:53:53.040562",
     "exception": false,
     "start_time": "2025-04-10T15:53:53.002558",
     "status": "completed"
    },
    "tags": []
   },
   "outputs": [],
   "source": [
    "flipkart_data"
   ]
  },
  {
   "cell_type": "markdown",
   "id": "d6250937",
   "metadata": {
    "id": "_CEkcrbRd5m5",
    "papermill": {
     "duration": 0.027641,
     "end_time": "2025-04-10T15:53:53.097712",
     "exception": false,
     "start_time": "2025-04-10T15:53:53.070071",
     "status": "completed"
    },
    "tags": []
   },
   "source": [
    "Now, We will adjust our flipkart_data to only have these **Top 10 categories**"
   ]
  },
  {
   "cell_type": "code",
   "execution_count": null,
   "id": "e3a26d81",
   "metadata": {
    "id": "OQhxV89HeHg1",
    "papermill": {
     "duration": 0.037925,
     "end_time": "2025-04-10T15:53:53.164363",
     "exception": false,
     "start_time": "2025-04-10T15:53:53.126438",
     "status": "completed"
    },
    "tags": []
   },
   "outputs": [],
   "source": [
    "# using 'isin' we filtered our flipkart data to have only top 10 categories\n",
    "flipkart_data= flipkart_data[flipkart_data['primary_category'].isin(top_10_categories)][['product_name','description','brand','primary_category']]"
   ]
  },
  {
   "cell_type": "code",
   "execution_count": null,
   "id": "a860766e",
   "metadata": {
    "id": "DHGjmrnLg5XQ",
    "outputId": "6718d53e-8786-4279-8d95-a6d588ed6bc6",
    "papermill": {
     "duration": 0.038928,
     "end_time": "2025-04-10T15:53:53.232269",
     "exception": false,
     "start_time": "2025-04-10T15:53:53.193341",
     "status": "completed"
    },
    "tags": []
   },
   "outputs": [],
   "source": [
    "flipkart_data"
   ]
  },
  {
   "cell_type": "code",
   "execution_count": null,
   "id": "88a186da",
   "metadata": {
    "id": "rC5v_UOHiLxC",
    "outputId": "cd2ccbb3-78ab-4d1c-9c14-1728a6c4152e",
    "papermill": {
     "duration": 0.068622,
     "end_time": "2025-04-10T15:53:53.333992",
     "exception": false,
     "start_time": "2025-04-10T15:53:53.265370",
     "status": "completed"
    },
    "tags": []
   },
   "outputs": [],
   "source": [
    "# Verification\n",
    "flipkart_data.describe()"
   ]
  },
  {
   "cell_type": "code",
   "execution_count": null,
   "id": "3e9e3072",
   "metadata": {
    "id": "JOdCWPZsbO4S",
    "outputId": "6eec735d-46c1-4d33-ca6b-3397751f3a9d",
    "papermill": {
     "duration": 0.040902,
     "end_time": "2025-04-10T15:53:53.405159",
     "exception": false,
     "start_time": "2025-04-10T15:53:53.364257",
     "status": "completed"
    },
    "tags": []
   },
   "outputs": [],
   "source": [
    "#let's make a copy of orginal data \n",
    "flipkart_data_merged=flipkart_data.copy()\n",
    "flipkart_data_merged"
   ]
  },
  {
   "cell_type": "code",
   "execution_count": null,
   "id": "a2f5f652",
   "metadata": {
    "id": "pbjZ5bSqg3TT",
    "papermill": {
     "duration": 0.047095,
     "end_time": "2025-04-10T15:53:53.484528",
     "exception": false,
     "start_time": "2025-04-10T15:53:53.437433",
     "status": "completed"
    },
    "tags": []
   },
   "outputs": [],
   "source": [
    "# Merging the columns using string property\n",
    "flipkart_data_merged['text']= flipkart_data_merged['brand'].astype(str) +\" \"+ flipkart_data_merged['product_name'].astype(str) + \" \" + flipkart_data_merged['description'].astype(str)\n",
    "\n",
    "#created a new single feature 'text'"
   ]
  },
  {
   "cell_type": "code",
   "execution_count": null,
   "id": "115cd6f2",
   "metadata": {
    "id": "158cMiOH9sT4",
    "papermill": {
     "duration": 0.038785,
     "end_time": "2025-04-10T15:53:53.554297",
     "exception": false,
     "start_time": "2025-04-10T15:53:53.515512",
     "status": "completed"
    },
    "tags": []
   },
   "outputs": [],
   "source": [
    "#Dropping unrequired Columns\n",
    "flipkart_data_merged.drop(flipkart_data_merged.columns[[0,1,2]], axis=1, inplace=True)"
   ]
  },
  {
   "cell_type": "code",
   "execution_count": null,
   "id": "deb6e46a",
   "metadata": {
    "id": "WjC51yJjD7G4",
    "outputId": "a8fc6967-3e65-4e04-ebf4-0e17e9be497c",
    "papermill": {
     "duration": 0.041913,
     "end_time": "2025-04-10T15:53:53.627105",
     "exception": false,
     "start_time": "2025-04-10T15:53:53.585192",
     "status": "completed"
    },
    "tags": []
   },
   "outputs": [],
   "source": [
    "flipkart_data_merged"
   ]
  },
  {
   "cell_type": "code",
   "execution_count": null,
   "id": "feff22c9",
   "metadata": {
    "id": "noFhi9IZCr-Z",
    "outputId": "176a66b5-0394-48bd-a075-5e56fc415a82",
    "papermill": {
     "duration": 0.039908,
     "end_time": "2025-04-10T15:53:53.700071",
     "exception": false,
     "start_time": "2025-04-10T15:53:53.660163",
     "status": "completed"
    },
    "tags": []
   },
   "outputs": [],
   "source": [
    "# reindex the 'text' column in front\n",
    "flipkart_data_merged=flipkart_data_merged.reindex(['text','primary_category'],axis=\"columns\")\n",
    "flipkart_data_merged"
   ]
  },
  {
   "cell_type": "code",
   "execution_count": null,
   "id": "4044f8c8",
   "metadata": {
    "id": "6UHmrJIGM1ne",
    "papermill": {
     "duration": 0.036077,
     "end_time": "2025-04-10T15:53:53.767507",
     "exception": false,
     "start_time": "2025-04-10T15:53:53.731430",
     "status": "completed"
    },
    "tags": []
   },
   "outputs": [],
   "source": [
    "# Let's use only \"description\" column to predict the categories \n",
    "flipkart_data.drop(flipkart_data.columns[[0,2]], axis=1, inplace=True)"
   ]
  },
  {
   "cell_type": "code",
   "execution_count": null,
   "id": "49c7a75b",
   "metadata": {
    "id": "42p3EO7_NIvM",
    "outputId": "1af9ea8b-090d-4434-e204-6b8d9a049bdf",
    "papermill": {
     "duration": 0.041897,
     "end_time": "2025-04-10T15:53:53.841491",
     "exception": false,
     "start_time": "2025-04-10T15:53:53.799594",
     "status": "completed"
    },
    "tags": []
   },
   "outputs": [],
   "source": [
    "flipkart_data"
   ]
  },
  {
   "cell_type": "code",
   "execution_count": null,
   "id": "896d6776",
   "metadata": {
    "id": "Tb5CLGp5Isbc",
    "outputId": "e5df81aa-71c8-4b09-a104-a2df2e64742c",
    "papermill": {
     "duration": 0.26683,
     "end_time": "2025-04-10T15:53:54.142238",
     "exception": false,
     "start_time": "2025-04-10T15:53:53.875408",
     "status": "completed"
    },
    "tags": []
   },
   "outputs": [],
   "source": [
    "from nltk.corpus import stopwords\n",
    "nltk.download('stopwords')\n",
    "from nltk.tokenize import word_tokenize\n",
    "import string # for removing punctuations in string"
   ]
  },
  {
   "cell_type": "code",
   "execution_count": null,
   "id": "06897f4d",
   "metadata": {
    "id": "2nJkeNWVPWlN",
    "papermill": {
     "duration": 0.041943,
     "end_time": "2025-04-10T15:53:54.216193",
     "exception": false,
     "start_time": "2025-04-10T15:53:54.174250",
     "status": "completed"
    },
    "tags": []
   },
   "outputs": [],
   "source": [
    "#adding custom stopwords \n",
    "# custom stopwords are selected from manual inspection\n",
    "new_stopwords = [\"buy\", \"features\", \"key\", \"specifications\",\"nan\",\"NaN\"]\n",
    "\n",
    "#extending the stopwords with custom stopwords\n",
    "stpwrd = nltk.corpus.stopwords.words('english')\n",
    "stpwrd.extend(new_stopwords)"
   ]
  },
  {
   "cell_type": "code",
   "execution_count": null,
   "id": "550d1694",
   "metadata": {
    "id": "0-ZZcQaoRJ8C",
    "papermill": {
     "duration": 0.040365,
     "end_time": "2025-04-10T15:53:54.289303",
     "exception": false,
     "start_time": "2025-04-10T15:53:54.248938",
     "status": "completed"
    },
    "tags": []
   },
   "outputs": [],
   "source": [
    "# This class preprocesses the text for us using tokenizer and stopwords.\n",
    "# it also removes punctuations if there are any.\n",
    "class PreProcessText(object):\n",
    "    def __init__(self):\n",
    "        pass\n",
    "    \n",
    "    def __remove_punctuation(self, text):\n",
    "        \"\"\"\n",
    "        Takes a String \n",
    "        return : Return a String \n",
    "        \"\"\"\n",
    "        message = []\n",
    "        for x in text:\n",
    "            #Using String Library\n",
    "            if x in string.punctuation:\n",
    "                pass\n",
    "            else:\n",
    "                message.append(x)\n",
    "        message = ''.join(message)\n",
    "        \n",
    "        return message\n",
    "    \n",
    "    def __remove_stopwords(self, text):\n",
    "        \"\"\"\n",
    "        Takes a String\n",
    "        return List\n",
    "        \"\"\"\n",
    "        words= []\n",
    "        for x in text.split():\n",
    "\n",
    "            #our custom stpwrd\n",
    "            if x.lower() in stpwrd:\n",
    "                pass\n",
    "            else:\n",
    "                words.append(x)\n",
    "        return words\n",
    "    \n",
    "    \n",
    "    def token_words(self,text=''):\n",
    "        \"\"\"\n",
    "        Takes String\n",
    "        Return Token also called  list of words that is used to \n",
    "        Train the Model \n",
    "        \"\"\"\n",
    "        message = self.__remove_punctuation(text)\n",
    "        words = self.__remove_stopwords(message)\n",
    "        return words"
   ]
  },
  {
   "cell_type": "code",
   "execution_count": null,
   "id": "7f125922",
   "metadata": {
    "id": "kKUdSkB7Sa0u",
    "papermill": {
     "duration": 2.747955,
     "end_time": "2025-04-10T15:53:57.069341",
     "exception": false,
     "start_time": "2025-04-10T15:53:54.321386",
     "status": "completed"
    },
    "tags": []
   },
   "outputs": [],
   "source": [
    "obj = PreProcessText()\n",
    "flipkart_data[\"description\"]=flipkart_data[\"description\"].apply(obj.token_words)"
   ]
  },
  {
   "cell_type": "code",
   "execution_count": null,
   "id": "79e5c4cb",
   "metadata": {
    "id": "KoWX9ojUWhYV",
    "outputId": "6a13b3b6-1d81-4c4a-8372-46600d299e3b",
    "papermill": {
     "duration": 0.039577,
     "end_time": "2025-04-10T15:53:57.140507",
     "exception": false,
     "start_time": "2025-04-10T15:53:57.100930",
     "status": "completed"
    },
    "tags": []
   },
   "outputs": [],
   "source": [
    "flipkart_data[\"description\"]"
   ]
  },
  {
   "cell_type": "markdown",
   "id": "b340e662",
   "metadata": {
    "id": "JmY_h1t8XCGn",
    "papermill": {
     "duration": 0.029651,
     "end_time": "2025-04-10T15:53:57.202749",
     "exception": false,
     "start_time": "2025-04-10T15:53:57.173098",
     "status": "completed"
    },
    "tags": []
   },
   "source": [
    "Now, we can go forward and split the data into test and train."
   ]
  },
  {
   "cell_type": "code",
   "execution_count": null,
   "id": "773b986c",
   "metadata": {
    "id": "fcXj8EcLXQmT",
    "papermill": {
     "duration": 0.038541,
     "end_time": "2025-04-10T15:53:57.270953",
     "exception": false,
     "start_time": "2025-04-10T15:53:57.232412",
     "status": "completed"
    },
    "tags": []
   },
   "outputs": [],
   "source": [
    "from sklearn.model_selection import train_test_split\n",
    "X_train, X_test, y_train, y_test = train_test_split(flipkart_data[\"description\"],flipkart_data[\"primary_category\"], test_size=0.33)\n"
   ]
  },
  {
   "cell_type": "code",
   "execution_count": null,
   "id": "4a5e8868",
   "metadata": {
    "id": "XovgEdIeo53j",
    "outputId": "d2199060-c457-4e0d-9066-c28ebdb9fe19",
    "papermill": {
     "duration": 0.037689,
     "end_time": "2025-04-10T15:53:57.337671",
     "exception": false,
     "start_time": "2025-04-10T15:53:57.299982",
     "status": "completed"
    },
    "tags": []
   },
   "outputs": [],
   "source": [
    "X_train"
   ]
  },
  {
   "cell_type": "markdown",
   "id": "e22624ab",
   "metadata": {
    "id": "yp5SIr66pFFX",
    "papermill": {
     "duration": 0.032363,
     "end_time": "2025-04-10T15:53:57.400893",
     "exception": false,
     "start_time": "2025-04-10T15:53:57.368530",
     "status": "completed"
    },
    "tags": []
   },
   "source": [
    "This is a list, but we need to send String not list to TfidfVectorizer and CountVectorizer in further code, otherwise it will break"
   ]
  },
  {
   "cell_type": "code",
   "execution_count": null,
   "id": "b8901778",
   "metadata": {
    "id": "o9vjvSkno2YQ",
    "papermill": {
     "duration": 0.076955,
     "end_time": "2025-04-10T15:53:57.507295",
     "exception": false,
     "start_time": "2025-04-10T15:53:57.430340",
     "status": "completed"
    },
    "tags": []
   },
   "outputs": [],
   "source": [
    "X_train=X_train.apply(lambda x: ' '.join(x))\n",
    "X_test=X_test.apply(lambda x: ' '.join(x))\n"
   ]
  },
  {
   "cell_type": "code",
   "execution_count": null,
   "id": "bb80cad0",
   "metadata": {
    "id": "9byhIxb1pt1L",
    "outputId": "8b30b68c-6d46-41cf-b491-eab3e0f6179a",
    "papermill": {
     "duration": 0.04284,
     "end_time": "2025-04-10T15:53:57.599065",
     "exception": false,
     "start_time": "2025-04-10T15:53:57.556225",
     "status": "completed"
    },
    "tags": []
   },
   "outputs": [],
   "source": [
    "#check\n",
    "X_test"
   ]
  },
  {
   "cell_type": "markdown",
   "id": "15bb5c58",
   "metadata": {
    "id": "-TAPlMhAYss6",
    "papermill": {
     "duration": 0.030049,
     "end_time": "2025-04-10T15:53:57.662442",
     "exception": false,
     "start_time": "2025-04-10T15:53:57.632393",
     "status": "completed"
    },
    "tags": []
   },
   "source": [
    "Now, we need to convert text data into vectors as model can process only numerical data.\n",
    "\n",
    "**Two methods that we can use are**\n",
    "\n",
    "1.   TfidfVectorizer \n",
    "2.   CountVectorizer \n",
    "\n",
    "To decide which one is better for our data,we can simply use both and try."
   ]
  },
  {
   "cell_type": "code",
   "execution_count": null,
   "id": "3da08c1f",
   "metadata": {
    "id": "12grnZTQZIIQ",
    "papermill": {
     "duration": 0.048907,
     "end_time": "2025-04-10T15:53:57.741327",
     "exception": false,
     "start_time": "2025-04-10T15:53:57.692420",
     "status": "completed"
    },
    "tags": []
   },
   "outputs": [],
   "source": [
    "from sklearn.feature_extraction.text import TfidfVectorizer \n",
    "from sklearn.feature_extraction.text import CountVectorizer\n",
    "#Importing the ML model\n",
    "from sklearn.naive_bayes import MultinomialNB\n",
    "from sklearn.pipeline import make_pipeline\n",
    "from sklearn.metrics import classification_report"
   ]
  },
  {
   "cell_type": "markdown",
   "id": "48c8c50a",
   "metadata": {
    "id": "oCYuHbcJZf7j",
    "papermill": {
     "duration": 0.030118,
     "end_time": "2025-04-10T15:53:57.800966",
     "exception": false,
     "start_time": "2025-04-10T15:53:57.770848",
     "status": "completed"
    },
    "tags": []
   },
   "source": [
    "#### TfidfVectorizer "
   ]
  },
  {
   "cell_type": "code",
   "execution_count": null,
   "id": "826d7e4d",
   "metadata": {
    "id": "GUjLuvNVZr7S",
    "papermill": {
     "duration": 0.617679,
     "end_time": "2025-04-10T15:53:58.449284",
     "exception": false,
     "start_time": "2025-04-10T15:53:57.831605",
     "status": "completed"
    },
    "tags": []
   },
   "outputs": [],
   "source": [
    "# we will use pipeline to make our model of TfidfVectorizer and MultinomialNB\n",
    "model=make_pipeline(TfidfVectorizer(),MultinomialNB())\n",
    "#Training our model\n",
    "model.fit(X_train,y_train)\n",
    "prediction_tfid=model.predict(X_test)"
   ]
  },
  {
   "cell_type": "code",
   "execution_count": null,
   "id": "27fde7e5",
   "metadata": {
    "id": "8VKBMMRJqLjH",
    "outputId": "74afa04d-82ca-45f4-9d97-c5afdb5a62e4",
    "papermill": {
     "duration": 0.042818,
     "end_time": "2025-04-10T15:53:58.524446",
     "exception": false,
     "start_time": "2025-04-10T15:53:58.481628",
     "status": "completed"
    },
    "tags": []
   },
   "outputs": [],
   "source": [
    "from sklearn.metrics import accuracy_score\n",
    "\n",
    "print(\"Accuracy Score for flipkart_Data using Tfid : \",accuracy_score(y_test,prediction_tfid))"
   ]
  },
  {
   "cell_type": "markdown",
   "id": "dd2f9272",
   "metadata": {
    "id": "s4Td2Cd2sFN0",
    "papermill": {
     "duration": 0.030763,
     "end_time": "2025-04-10T15:53:58.588464",
     "exception": false,
     "start_time": "2025-04-10T15:53:58.557701",
     "status": "completed"
    },
    "tags": []
   },
   "source": [
    "####  CountVectorizer"
   ]
  },
  {
   "cell_type": "code",
   "execution_count": null,
   "id": "83502d28",
   "metadata": {
    "id": "NmzWXtgorn5n",
    "papermill": {
     "duration": 0.569761,
     "end_time": "2025-04-10T15:53:59.189070",
     "exception": false,
     "start_time": "2025-04-10T15:53:58.619309",
     "status": "completed"
    },
    "tags": []
   },
   "outputs": [],
   "source": [
    "# we will use pipeline to make our model of TfidfVectorizer and MultinomialNB\n",
    "model_2 = make_pipeline(CountVectorizer(),MultinomialNB())\n",
    "#Training our model\n",
    "model_2.fit(X_train,y_train)\n",
    "prediction_countV = model_2.predict(X_test)"
   ]
  },
  {
   "cell_type": "code",
   "execution_count": null,
   "id": "1480378d",
   "metadata": {
    "id": "ztervRKAsZu1",
    "outputId": "3f329a72-ad2c-4b1f-f856-a2853cccf055",
    "papermill": {
     "duration": 0.043317,
     "end_time": "2025-04-10T15:53:59.266218",
     "exception": false,
     "start_time": "2025-04-10T15:53:59.222901",
     "status": "completed"
    },
    "tags": []
   },
   "outputs": [],
   "source": [
    "print(\"Accuracy Score for flipkart_Data using Count : \",accuracy_score(y_test,prediction_countV))"
   ]
  },
  {
   "cell_type": "code",
   "execution_count": null,
   "id": "fbf79d6b",
   "metadata": {
    "id": "cD3BNgw5s8R2",
    "outputId": "e0fcbd17-a18f-484c-be4d-0909c5976b6b",
    "papermill": {
     "duration": 0.167444,
     "end_time": "2025-04-10T15:53:59.466646",
     "exception": false,
     "start_time": "2025-04-10T15:53:59.299202",
     "status": "completed"
    },
    "tags": []
   },
   "outputs": [],
   "source": [
    "print(classification_report(y_test,prediction_countV))"
   ]
  },
  {
   "cell_type": "markdown",
   "id": "cd013cd2",
   "metadata": {
    "id": "0IatPfErsswY",
    "papermill": {
     "duration": 0.029244,
     "end_time": "2025-04-10T15:53:59.526445",
     "exception": false,
     "start_time": "2025-04-10T15:53:59.497201",
     "status": "completed"
    },
    "tags": []
   },
   "source": [
    "### flipkart_data_merged\n",
    "\n",
    "Now we will use the flipkart_data_merged with brand, product_name and description merged into \"text\"."
   ]
  },
  {
   "cell_type": "code",
   "execution_count": null,
   "id": "4c9a6db8",
   "metadata": {
    "id": "l2IpQOVc1YtN",
    "outputId": "c5185f76-e128-45dd-d574-927f154c759c",
    "papermill": {
     "duration": 0.039945,
     "end_time": "2025-04-10T15:53:59.598176",
     "exception": false,
     "start_time": "2025-04-10T15:53:59.558231",
     "status": "completed"
    },
    "tags": []
   },
   "outputs": [],
   "source": [
    "flipkart_data_merged"
   ]
  },
  {
   "cell_type": "code",
   "execution_count": null,
   "id": "1e6f5c82",
   "metadata": {
    "id": "YvGOf6Da1Ppv",
    "papermill": {
     "duration": 3.3728,
     "end_time": "2025-04-10T15:54:03.004425",
     "exception": false,
     "start_time": "2025-04-10T15:53:59.631625",
     "status": "completed"
    },
    "tags": []
   },
   "outputs": [],
   "source": [
    "obj = PreProcessText()\n",
    "flipkart_data_merged[\"text\"]=flipkart_data_merged[\"text\"].apply(obj.token_words)"
   ]
  },
  {
   "cell_type": "code",
   "execution_count": null,
   "id": "daa7b6f0",
   "metadata": {
    "id": "f7aKIksw1Wn5",
    "outputId": "e386819c-63b4-4150-b90e-091780762204",
    "papermill": {
     "duration": 0.039212,
     "end_time": "2025-04-10T15:54:03.084434",
     "exception": false,
     "start_time": "2025-04-10T15:54:03.045222",
     "status": "completed"
    },
    "tags": []
   },
   "outputs": [],
   "source": [
    "flipkart_data_merged['text']"
   ]
  },
  {
   "cell_type": "markdown",
   "id": "9cc3a4f6",
   "metadata": {
    "id": "TD8WPxwg1-T1",
    "papermill": {
     "duration": 0.032402,
     "end_time": "2025-04-10T15:54:03.151629",
     "exception": false,
     "start_time": "2025-04-10T15:54:03.119227",
     "status": "completed"
    },
    "tags": []
   },
   "source": [
    "Now, we can go forward and split the data into test and train."
   ]
  },
  {
   "cell_type": "code",
   "execution_count": null,
   "id": "2480eb66",
   "metadata": {
    "id": "EH1b0X0-1-3A",
    "papermill": {
     "duration": 0.042553,
     "end_time": "2025-04-10T15:54:03.224812",
     "exception": false,
     "start_time": "2025-04-10T15:54:03.182259",
     "status": "completed"
    },
    "tags": []
   },
   "outputs": [],
   "source": [
    "from sklearn.model_selection import train_test_split\n",
    "X_train, X_test, y_train, y_test = train_test_split(flipkart_data_merged[\"text\"],flipkart_data_merged[\"primary_category\"], test_size=0.33)"
   ]
  },
  {
   "cell_type": "code",
   "execution_count": null,
   "id": "48b6c337",
   "metadata": {
    "id": "6vyRBfyf2Jip",
    "papermill": {
     "duration": 0.073679,
     "end_time": "2025-04-10T15:54:03.328692",
     "exception": false,
     "start_time": "2025-04-10T15:54:03.255013",
     "status": "completed"
    },
    "tags": []
   },
   "outputs": [],
   "source": [
    "X_train=X_train.apply(lambda x: ' '.join(x))\n",
    "X_test=X_test.apply(lambda x: ' '.join(x))"
   ]
  },
  {
   "cell_type": "code",
   "execution_count": null,
   "id": "e686ea69",
   "metadata": {
    "id": "U1YP4bsg2NlW",
    "outputId": "c76e6612-ba37-4df4-d980-239d98580460",
    "papermill": {
     "duration": 0.040068,
     "end_time": "2025-04-10T15:54:03.401053",
     "exception": false,
     "start_time": "2025-04-10T15:54:03.360985",
     "status": "completed"
    },
    "tags": []
   },
   "outputs": [],
   "source": [
    "X_train"
   ]
  },
  {
   "cell_type": "markdown",
   "id": "788678a2",
   "metadata": {
    "id": "cvdcjkv_2XR5",
    "papermill": {
     "duration": 0.031339,
     "end_time": "2025-04-10T15:54:03.465441",
     "exception": false,
     "start_time": "2025-04-10T15:54:03.434102",
     "status": "completed"
    },
    "tags": []
   },
   "source": [
    "#### TfidfVecorizer"
   ]
  },
  {
   "cell_type": "code",
   "execution_count": null,
   "id": "f2af42f0",
   "metadata": {
    "id": "yjLOOQwp2bxo",
    "papermill": {
     "duration": 0.660698,
     "end_time": "2025-04-10T15:54:04.156367",
     "exception": false,
     "start_time": "2025-04-10T15:54:03.495669",
     "status": "completed"
    },
    "tags": []
   },
   "outputs": [],
   "source": [
    "# we will use pipeline to make our model of TfidfVectorizer and MultinomialNB\n",
    "model=make_pipeline(TfidfVectorizer(),MultinomialNB())\n",
    "#Training our model\n",
    "model.fit(X_train,y_train)\n",
    "prediction_tfid=model.predict(X_test)"
   ]
  },
  {
   "cell_type": "code",
   "execution_count": null,
   "id": "87e88999",
   "metadata": {
    "id": "fAyE6m0b2jSQ",
    "outputId": "d8d8ab72-371d-42cb-92b6-d13bcb720213",
    "papermill": {
     "duration": 0.043716,
     "end_time": "2025-04-10T15:54:04.233473",
     "exception": false,
     "start_time": "2025-04-10T15:54:04.189757",
     "status": "completed"
    },
    "tags": []
   },
   "outputs": [],
   "source": [
    "from sklearn.metrics import accuracy_score\n",
    "\n",
    "print(\"Accuracy Score for flipkart_data_merged using Tfid : \",accuracy_score(y_test,prediction_tfid)) # Expected higher result than flipkart_data"
   ]
  },
  {
   "cell_type": "markdown",
   "id": "b123e596",
   "metadata": {
    "id": "9x20tbIS29Ig",
    "papermill": {
     "duration": 0.032265,
     "end_time": "2025-04-10T15:54:04.298471",
     "exception": false,
     "start_time": "2025-04-10T15:54:04.266206",
     "status": "completed"
    },
    "tags": []
   },
   "source": [
    "####  CountVectorizer"
   ]
  },
  {
   "cell_type": "code",
   "execution_count": null,
   "id": "21e402c4",
   "metadata": {
    "id": "V4bumMOZ2wt2",
    "papermill": {
     "duration": 0.62105,
     "end_time": "2025-04-10T15:54:04.950496",
     "exception": false,
     "start_time": "2025-04-10T15:54:04.329446",
     "status": "completed"
    },
    "tags": []
   },
   "outputs": [],
   "source": [
    "\n",
    "model_2 = make_pipeline(CountVectorizer(),MultinomialNB())\n",
    "#Training our model\n",
    "model_2.fit(X_train,y_train)\n",
    "prediction_countV = model_2.predict(X_test)"
   ]
  },
  {
   "cell_type": "code",
   "execution_count": null,
   "id": "3568a977",
   "metadata": {
    "id": "iFpXqOb33BvE",
    "outputId": "11f0170b-e746-4211-86cb-d2e143ac27c8",
    "papermill": {
     "duration": 0.043813,
     "end_time": "2025-04-10T15:54:05.027085",
     "exception": false,
     "start_time": "2025-04-10T15:54:04.983272",
     "status": "completed"
    },
    "tags": []
   },
   "outputs": [],
   "source": [
    "print(\"Accuracy Score for flipkart_data_mereged using Count : \",accuracy_score(y_test,prediction_countV)) \n",
    "#Expects Higher result than flipkart_data_mereged"
   ]
  },
  {
   "cell_type": "code",
   "execution_count": null,
   "id": "19c84244",
   "metadata": {
    "papermill": {
     "duration": 0.037027,
     "end_time": "2025-04-10T15:54:05.096562",
     "exception": false,
     "start_time": "2025-04-10T15:54:05.059535",
     "status": "completed"
    },
    "tags": []
   },
   "outputs": [],
   "source": [
    "prediction_countV"
   ]
  },
  {
   "cell_type": "markdown",
   "id": "35a34c03",
   "metadata": {
    "id": "UUVUZ96N8RdA",
    "papermill": {
     "duration": 0.02977,
     "end_time": "2025-04-10T15:54:05.157585",
     "exception": false,
     "start_time": "2025-04-10T15:54:05.127815",
     "status": "completed"
    },
    "tags": []
   },
   "source": [
    "\n",
    "\n",
    "\n",
    "\n",
    "\n",
    "\n"
   ]
  },
  {
   "cell_type": "code",
   "execution_count": null,
   "id": "0d668dab",
   "metadata": {
    "papermill": {
     "duration": 0.030105,
     "end_time": "2025-04-10T15:54:05.218292",
     "exception": false,
     "start_time": "2025-04-10T15:54:05.188187",
     "status": "completed"
    },
    "tags": []
   },
   "outputs": [],
   "source": []
  },
  {
   "cell_type": "code",
   "execution_count": null,
   "id": "51ffdf2a-462d-4d31-9df1-56676e6d7ee6",
   "metadata": {},
   "outputs": [],
   "source": []
  }
 ],
 "metadata": {
  "kaggle": {
   "accelerator": "nvidiaTeslaT4",
   "dataSources": [
    {
     "datasetId": 1878064,
     "sourceId": 3068095,
     "sourceType": "datasetVersion"
    }
   ],
   "dockerImageVersionId": 31011,
   "isGpuEnabled": true,
   "isInternetEnabled": true,
   "language": "python",
   "sourceType": "notebook"
  },
  "kernelspec": {
   "display_name": "Python 3 (ipykernel)",
   "language": "python",
   "name": "python3"
  },
  "language_info": {
   "codemirror_mode": {
    "name": "ipython",
    "version": 3
   },
   "file_extension": ".py",
   "mimetype": "text/x-python",
   "name": "python",
   "nbconvert_exporter": "python",
   "pygments_lexer": "ipython3",
   "version": "3.11.4"
  },
  "papermill": {
   "default_parameters": {},
   "duration": 25.732841,
   "end_time": "2025-04-10T15:54:05.866505",
   "environment_variables": {},
   "exception": null,
   "input_path": "__notebook__.ipynb",
   "output_path": "__notebook__.ipynb",
   "parameters": {},
   "start_time": "2025-04-10T15:53:40.133664",
   "version": "2.6.0"
  }
 },
 "nbformat": 4,
 "nbformat_minor": 5
}
